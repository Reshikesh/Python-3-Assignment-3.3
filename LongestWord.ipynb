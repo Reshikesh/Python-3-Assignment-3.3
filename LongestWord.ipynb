{
 "cells": [
  {
   "cell_type": "markdown",
   "metadata": {},
   "source": [
    "To find the longest words from a list of words"
   ]
  },
  {
   "cell_type": "code",
   "execution_count": 32,
   "metadata": {},
   "outputs": [],
   "source": [
    "def longestWord(l):\n",
    "    '''Function to find the longest words from a list'''\n",
    "    lengthList=list(map(len,l))     #creating a list of word lengths\n",
    "    from functools import reduce      #importing reduce\n",
    "    for i in lengthList:\n",
    "        max_length = reduce(lambda a,b:a if(a>b) else b,lengthList)     #finding max length\n",
    "    return list(filter(lambda x:len(x)==max_length,l))      #returning words with max length\n"
   ]
  },
  {
   "cell_type": "code",
   "execution_count": 33,
   "metadata": {},
   "outputs": [
    {
     "name": "stdout",
     "output_type": "stream",
     "text": [
      "['uuuuu', 'ppppp']\n"
     ]
    }
   ],
   "source": [
    "inStr=input(\"Enter a comma-separated list of words :\")     #getting input from user - string\n",
    "inList=inputStr.split(',')     #converting into comma-separated list\n",
    "lW=longestWord(inList)    #calling longestWord() function \n",
    "print(lW)   #printing output"
   ]
  },
  {
   "cell_type": "code",
   "execution_count": null,
   "metadata": {},
   "outputs": [],
   "source": []
  }
 ],
 "metadata": {
  "kernelspec": {
   "display_name": "Python 3",
   "language": "python",
   "name": "python3"
  },
  "language_info": {
   "codemirror_mode": {
    "name": "ipython",
    "version": 3
   },
   "file_extension": ".py",
   "mimetype": "text/x-python",
   "name": "python",
   "nbconvert_exporter": "python",
   "pygments_lexer": "ipython3",
   "version": "3.6.4"
  }
 },
 "nbformat": 4,
 "nbformat_minor": 2
}
